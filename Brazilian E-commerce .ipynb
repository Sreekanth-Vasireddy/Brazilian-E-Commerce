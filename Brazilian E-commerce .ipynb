{
 "cells": [
  {
   "cell_type": "markdown",
   "id": "3c77f4ea",
   "metadata": {},
   "source": [
    "1.What are the most popular products sold on Olist's platform?\n",
    "\n",
    "2.Which regions in Brazil have the highest and lowest order volumes?\n"
   ]
  },
  {
   "cell_type": "code",
   "execution_count": 1,
   "id": "091704cb",
   "metadata": {},
   "outputs": [],
   "source": [
    "import pandas as pd\n",
    "import matplotlib.pyplot as plt"
   ]
  },
  {
   "cell_type": "code",
   "execution_count": 2,
   "id": "a532f3b1",
   "metadata": {},
   "outputs": [
    {
     "name": "stdout",
     "output_type": "stream",
     "text": [
      "Olist-data analysis.ipynb  order_reviews.csv\r\n",
      "Untitled.ipynb             orders.csv\r\n",
      "customers.csv              payments.csv\r\n",
      "geolocation.csv            products.csv\r\n",
      "order_items.csv            sellers.csv\r\n"
     ]
    }
   ],
   "source": [
    "ls"
   ]
  },
  {
   "cell_type": "code",
   "execution_count": 3,
   "id": "2acaff31",
   "metadata": {},
   "outputs": [
    {
     "data": {
      "text/html": [
       "<div>\n",
       "<style scoped>\n",
       "    .dataframe tbody tr th:only-of-type {\n",
       "        vertical-align: middle;\n",
       "    }\n",
       "\n",
       "    .dataframe tbody tr th {\n",
       "        vertical-align: top;\n",
       "    }\n",
       "\n",
       "    .dataframe thead th {\n",
       "        text-align: right;\n",
       "    }\n",
       "</style>\n",
       "<table border=\"1\" class=\"dataframe\">\n",
       "  <thead>\n",
       "    <tr style=\"text-align: right;\">\n",
       "      <th></th>\n",
       "      <th>product_id</th>\n",
       "      <th>product category</th>\n",
       "      <th>product_name_length</th>\n",
       "      <th>product_description_length</th>\n",
       "      <th>product_photos_qty</th>\n",
       "      <th>product_weight_g</th>\n",
       "      <th>product_length_cm</th>\n",
       "      <th>product_height_cm</th>\n",
       "      <th>product_width_cm</th>\n",
       "    </tr>\n",
       "  </thead>\n",
       "  <tbody>\n",
       "    <tr>\n",
       "      <th>0</th>\n",
       "      <td>1e9e8ef04dbcff4541ed26657ea517e5</td>\n",
       "      <td>perfumery</td>\n",
       "      <td>40.0</td>\n",
       "      <td>287.0</td>\n",
       "      <td>1.0</td>\n",
       "      <td>225.0</td>\n",
       "      <td>16.0</td>\n",
       "      <td>10.0</td>\n",
       "      <td>14.0</td>\n",
       "    </tr>\n",
       "    <tr>\n",
       "      <th>1</th>\n",
       "      <td>3aa071139cb16b67ca9e5dea641aaa2f</td>\n",
       "      <td>Art</td>\n",
       "      <td>44.0</td>\n",
       "      <td>276.0</td>\n",
       "      <td>1.0</td>\n",
       "      <td>1000.0</td>\n",
       "      <td>30.0</td>\n",
       "      <td>18.0</td>\n",
       "      <td>20.0</td>\n",
       "    </tr>\n",
       "    <tr>\n",
       "      <th>2</th>\n",
       "      <td>96bd76ec8810374ed1b65e291975717f</td>\n",
       "      <td>sport leisure</td>\n",
       "      <td>46.0</td>\n",
       "      <td>250.0</td>\n",
       "      <td>1.0</td>\n",
       "      <td>154.0</td>\n",
       "      <td>18.0</td>\n",
       "      <td>9.0</td>\n",
       "      <td>15.0</td>\n",
       "    </tr>\n",
       "    <tr>\n",
       "      <th>3</th>\n",
       "      <td>cef67bcfe19066a932b7673e239eb23d</td>\n",
       "      <td>babies</td>\n",
       "      <td>27.0</td>\n",
       "      <td>261.0</td>\n",
       "      <td>1.0</td>\n",
       "      <td>371.0</td>\n",
       "      <td>26.0</td>\n",
       "      <td>4.0</td>\n",
       "      <td>26.0</td>\n",
       "    </tr>\n",
       "    <tr>\n",
       "      <th>4</th>\n",
       "      <td>9dc1a7de274444849c219cff195d0b71</td>\n",
       "      <td>housewares</td>\n",
       "      <td>37.0</td>\n",
       "      <td>402.0</td>\n",
       "      <td>4.0</td>\n",
       "      <td>625.0</td>\n",
       "      <td>20.0</td>\n",
       "      <td>17.0</td>\n",
       "      <td>13.0</td>\n",
       "    </tr>\n",
       "    <tr>\n",
       "      <th>...</th>\n",
       "      <td>...</td>\n",
       "      <td>...</td>\n",
       "      <td>...</td>\n",
       "      <td>...</td>\n",
       "      <td>...</td>\n",
       "      <td>...</td>\n",
       "      <td>...</td>\n",
       "      <td>...</td>\n",
       "      <td>...</td>\n",
       "    </tr>\n",
       "    <tr>\n",
       "      <th>32946</th>\n",
       "      <td>a0b7d5a992ccda646f2d34e418fff5a0</td>\n",
       "      <td>Furniture Decoration</td>\n",
       "      <td>45.0</td>\n",
       "      <td>67.0</td>\n",
       "      <td>2.0</td>\n",
       "      <td>12300.0</td>\n",
       "      <td>40.0</td>\n",
       "      <td>40.0</td>\n",
       "      <td>40.0</td>\n",
       "    </tr>\n",
       "    <tr>\n",
       "      <th>32947</th>\n",
       "      <td>bf4538d88321d0fd4412a93c974510e6</td>\n",
       "      <td>Construction Tools Illumination</td>\n",
       "      <td>41.0</td>\n",
       "      <td>971.0</td>\n",
       "      <td>1.0</td>\n",
       "      <td>1700.0</td>\n",
       "      <td>16.0</td>\n",
       "      <td>19.0</td>\n",
       "      <td>16.0</td>\n",
       "    </tr>\n",
       "    <tr>\n",
       "      <th>32948</th>\n",
       "      <td>9a7c6041fa9592d9d9ef6cfe62a71f8c</td>\n",
       "      <td>bed table bath</td>\n",
       "      <td>50.0</td>\n",
       "      <td>799.0</td>\n",
       "      <td>1.0</td>\n",
       "      <td>1400.0</td>\n",
       "      <td>27.0</td>\n",
       "      <td>7.0</td>\n",
       "      <td>27.0</td>\n",
       "    </tr>\n",
       "    <tr>\n",
       "      <th>32949</th>\n",
       "      <td>83808703fc0706a22e264b9d75f04a2e</td>\n",
       "      <td>computer accessories</td>\n",
       "      <td>60.0</td>\n",
       "      <td>156.0</td>\n",
       "      <td>2.0</td>\n",
       "      <td>700.0</td>\n",
       "      <td>31.0</td>\n",
       "      <td>13.0</td>\n",
       "      <td>20.0</td>\n",
       "    </tr>\n",
       "    <tr>\n",
       "      <th>32950</th>\n",
       "      <td>106392145fca363410d287a815be6de4</td>\n",
       "      <td>bed table bath</td>\n",
       "      <td>58.0</td>\n",
       "      <td>309.0</td>\n",
       "      <td>1.0</td>\n",
       "      <td>2083.0</td>\n",
       "      <td>12.0</td>\n",
       "      <td>2.0</td>\n",
       "      <td>7.0</td>\n",
       "    </tr>\n",
       "  </tbody>\n",
       "</table>\n",
       "<p>32951 rows × 9 columns</p>\n",
       "</div>"
      ],
      "text/plain": [
       "                             product_id                 product category  \\\n",
       "0      1e9e8ef04dbcff4541ed26657ea517e5                        perfumery   \n",
       "1      3aa071139cb16b67ca9e5dea641aaa2f                              Art   \n",
       "2      96bd76ec8810374ed1b65e291975717f                    sport leisure   \n",
       "3      cef67bcfe19066a932b7673e239eb23d                           babies   \n",
       "4      9dc1a7de274444849c219cff195d0b71                       housewares   \n",
       "...                                 ...                              ...   \n",
       "32946  a0b7d5a992ccda646f2d34e418fff5a0             Furniture Decoration   \n",
       "32947  bf4538d88321d0fd4412a93c974510e6  Construction Tools Illumination   \n",
       "32948  9a7c6041fa9592d9d9ef6cfe62a71f8c                   bed table bath   \n",
       "32949  83808703fc0706a22e264b9d75f04a2e             computer accessories   \n",
       "32950  106392145fca363410d287a815be6de4                   bed table bath   \n",
       "\n",
       "       product_name_length  product_description_length  product_photos_qty  \\\n",
       "0                     40.0                       287.0                 1.0   \n",
       "1                     44.0                       276.0                 1.0   \n",
       "2                     46.0                       250.0                 1.0   \n",
       "3                     27.0                       261.0                 1.0   \n",
       "4                     37.0                       402.0                 4.0   \n",
       "...                    ...                         ...                 ...   \n",
       "32946                 45.0                        67.0                 2.0   \n",
       "32947                 41.0                       971.0                 1.0   \n",
       "32948                 50.0                       799.0                 1.0   \n",
       "32949                 60.0                       156.0                 2.0   \n",
       "32950                 58.0                       309.0                 1.0   \n",
       "\n",
       "       product_weight_g  product_length_cm  product_height_cm  \\\n",
       "0                 225.0               16.0               10.0   \n",
       "1                1000.0               30.0               18.0   \n",
       "2                 154.0               18.0                9.0   \n",
       "3                 371.0               26.0                4.0   \n",
       "4                 625.0               20.0               17.0   \n",
       "...                 ...                ...                ...   \n",
       "32946           12300.0               40.0               40.0   \n",
       "32947            1700.0               16.0               19.0   \n",
       "32948            1400.0               27.0                7.0   \n",
       "32949             700.0               31.0               13.0   \n",
       "32950            2083.0               12.0                2.0   \n",
       "\n",
       "       product_width_cm  \n",
       "0                  14.0  \n",
       "1                  20.0  \n",
       "2                  15.0  \n",
       "3                  26.0  \n",
       "4                  13.0  \n",
       "...                 ...  \n",
       "32946              40.0  \n",
       "32947              16.0  \n",
       "32948              27.0  \n",
       "32949              20.0  \n",
       "32950               7.0  \n",
       "\n",
       "[32951 rows x 9 columns]"
      ]
     },
     "execution_count": 3,
     "metadata": {},
     "output_type": "execute_result"
    }
   ],
   "source": [
    "pro=pd.read_csv(\"products.csv\")\n",
    "pro"
   ]
  },
  {
   "cell_type": "code",
   "execution_count": 4,
   "id": "d3b7c2ad",
   "metadata": {},
   "outputs": [
    {
     "name": "stdout",
     "output_type": "stream",
     "text": [
      "<class 'pandas.core.frame.DataFrame'>\n",
      "RangeIndex: 32951 entries, 0 to 32950\n",
      "Data columns (total 9 columns):\n",
      " #   Column                      Non-Null Count  Dtype  \n",
      "---  ------                      --------------  -----  \n",
      " 0   product_id                  32951 non-null  object \n",
      " 1   product category            32341 non-null  object \n",
      " 2   product_name_length         32341 non-null  float64\n",
      " 3   product_description_length  32341 non-null  float64\n",
      " 4   product_photos_qty          32341 non-null  float64\n",
      " 5   product_weight_g            32949 non-null  float64\n",
      " 6   product_length_cm           32949 non-null  float64\n",
      " 7   product_height_cm           32949 non-null  float64\n",
      " 8   product_width_cm            32949 non-null  float64\n",
      "dtypes: float64(7), object(2)\n",
      "memory usage: 2.3+ MB\n"
     ]
    }
   ],
   "source": [
    "pro.info()"
   ]
  },
  {
   "cell_type": "code",
   "execution_count": 5,
   "id": "2c6368e8",
   "metadata": {},
   "outputs": [
    {
     "data": {
      "text/html": [
       "<div>\n",
       "<style scoped>\n",
       "    .dataframe tbody tr th:only-of-type {\n",
       "        vertical-align: middle;\n",
       "    }\n",
       "\n",
       "    .dataframe tbody tr th {\n",
       "        vertical-align: top;\n",
       "    }\n",
       "\n",
       "    .dataframe thead th {\n",
       "        text-align: right;\n",
       "    }\n",
       "</style>\n",
       "<table border=\"1\" class=\"dataframe\">\n",
       "  <thead>\n",
       "    <tr style=\"text-align: right;\">\n",
       "      <th></th>\n",
       "      <th>product_name_length</th>\n",
       "      <th>product_description_length</th>\n",
       "      <th>product_photos_qty</th>\n",
       "      <th>product_weight_g</th>\n",
       "      <th>product_length_cm</th>\n",
       "      <th>product_height_cm</th>\n",
       "      <th>product_width_cm</th>\n",
       "    </tr>\n",
       "  </thead>\n",
       "  <tbody>\n",
       "    <tr>\n",
       "      <th>count</th>\n",
       "      <td>32341.000000</td>\n",
       "      <td>32341.000000</td>\n",
       "      <td>32341.000000</td>\n",
       "      <td>32949.000000</td>\n",
       "      <td>32949.000000</td>\n",
       "      <td>32949.000000</td>\n",
       "      <td>32949.000000</td>\n",
       "    </tr>\n",
       "    <tr>\n",
       "      <th>mean</th>\n",
       "      <td>48.476949</td>\n",
       "      <td>771.495285</td>\n",
       "      <td>2.188986</td>\n",
       "      <td>2276.472488</td>\n",
       "      <td>30.815078</td>\n",
       "      <td>16.937661</td>\n",
       "      <td>23.196728</td>\n",
       "    </tr>\n",
       "    <tr>\n",
       "      <th>std</th>\n",
       "      <td>10.245741</td>\n",
       "      <td>635.115225</td>\n",
       "      <td>1.736766</td>\n",
       "      <td>4282.038731</td>\n",
       "      <td>16.914458</td>\n",
       "      <td>13.637554</td>\n",
       "      <td>12.079047</td>\n",
       "    </tr>\n",
       "    <tr>\n",
       "      <th>min</th>\n",
       "      <td>5.000000</td>\n",
       "      <td>4.000000</td>\n",
       "      <td>1.000000</td>\n",
       "      <td>0.000000</td>\n",
       "      <td>7.000000</td>\n",
       "      <td>2.000000</td>\n",
       "      <td>6.000000</td>\n",
       "    </tr>\n",
       "    <tr>\n",
       "      <th>25%</th>\n",
       "      <td>42.000000</td>\n",
       "      <td>339.000000</td>\n",
       "      <td>1.000000</td>\n",
       "      <td>300.000000</td>\n",
       "      <td>18.000000</td>\n",
       "      <td>8.000000</td>\n",
       "      <td>15.000000</td>\n",
       "    </tr>\n",
       "    <tr>\n",
       "      <th>50%</th>\n",
       "      <td>51.000000</td>\n",
       "      <td>595.000000</td>\n",
       "      <td>1.000000</td>\n",
       "      <td>700.000000</td>\n",
       "      <td>25.000000</td>\n",
       "      <td>13.000000</td>\n",
       "      <td>20.000000</td>\n",
       "    </tr>\n",
       "    <tr>\n",
       "      <th>75%</th>\n",
       "      <td>57.000000</td>\n",
       "      <td>972.000000</td>\n",
       "      <td>3.000000</td>\n",
       "      <td>1900.000000</td>\n",
       "      <td>38.000000</td>\n",
       "      <td>21.000000</td>\n",
       "      <td>30.000000</td>\n",
       "    </tr>\n",
       "    <tr>\n",
       "      <th>max</th>\n",
       "      <td>76.000000</td>\n",
       "      <td>3992.000000</td>\n",
       "      <td>20.000000</td>\n",
       "      <td>40425.000000</td>\n",
       "      <td>105.000000</td>\n",
       "      <td>105.000000</td>\n",
       "      <td>118.000000</td>\n",
       "    </tr>\n",
       "  </tbody>\n",
       "</table>\n",
       "</div>"
      ],
      "text/plain": [
       "       product_name_length  product_description_length  product_photos_qty  \\\n",
       "count         32341.000000                32341.000000        32341.000000   \n",
       "mean             48.476949                  771.495285            2.188986   \n",
       "std              10.245741                  635.115225            1.736766   \n",
       "min               5.000000                    4.000000            1.000000   \n",
       "25%              42.000000                  339.000000            1.000000   \n",
       "50%              51.000000                  595.000000            1.000000   \n",
       "75%              57.000000                  972.000000            3.000000   \n",
       "max              76.000000                 3992.000000           20.000000   \n",
       "\n",
       "       product_weight_g  product_length_cm  product_height_cm  \\\n",
       "count      32949.000000       32949.000000       32949.000000   \n",
       "mean        2276.472488          30.815078          16.937661   \n",
       "std         4282.038731          16.914458          13.637554   \n",
       "min            0.000000           7.000000           2.000000   \n",
       "25%          300.000000          18.000000           8.000000   \n",
       "50%          700.000000          25.000000          13.000000   \n",
       "75%         1900.000000          38.000000          21.000000   \n",
       "max        40425.000000         105.000000         105.000000   \n",
       "\n",
       "       product_width_cm  \n",
       "count      32949.000000  \n",
       "mean          23.196728  \n",
       "std           12.079047  \n",
       "min            6.000000  \n",
       "25%           15.000000  \n",
       "50%           20.000000  \n",
       "75%           30.000000  \n",
       "max          118.000000  "
      ]
     },
     "execution_count": 5,
     "metadata": {},
     "output_type": "execute_result"
    }
   ],
   "source": [
    "pro.describe()"
   ]
  },
  {
   "cell_type": "code",
   "execution_count": 6,
   "id": "83d10d27",
   "metadata": {},
   "outputs": [
    {
     "data": {
      "text/plain": [
       "Index(['product_id', 'product category', 'product_name_length',\n",
       "       'product_description_length', 'product_photos_qty', 'product_weight_g',\n",
       "       'product_length_cm', 'product_height_cm', 'product_width_cm'],\n",
       "      dtype='object')"
      ]
     },
     "execution_count": 6,
     "metadata": {},
     "output_type": "execute_result"
    }
   ],
   "source": [
    "pro.columns"
   ]
  },
  {
   "cell_type": "code",
   "execution_count": 7,
   "id": "6ba77d53",
   "metadata": {},
   "outputs": [
    {
     "data": {
      "text/plain": [
       "array(['perfumery', 'Art', 'sport leisure', 'babies', 'housewares',\n",
       "       'musical instruments', 'Cool Stuff', 'Furniture Decoration',\n",
       "       'home appliances', 'toys', 'bed table bath',\n",
       "       'CONSTRUCTION SECURITY TOOLS', 'computer accessories',\n",
       "       'HEALTH BEAUTY', 'Bags Accessories', 'Garden tools',\n",
       "       'Furniture office', 'automotive', 'electronics',\n",
       "       'Fashion Calcados', 'telephony', 'stationary store',\n",
       "       'Fashion Bags and Accessories', 'PCs', 'Casa Construcao',\n",
       "       'Watches present', 'Construction Tools Construction', 'pet Shop',\n",
       "       'electrostile', 'Agro Industria e Comercio', nan, 'Room Furniture',\n",
       "       'SIGNALIZATION AND SAFETY', 'climatization', 'Games consoles',\n",
       "       'General Interest Books', 'Construction Tools Tools',\n",
       "       'Fashion Underwear and Beach Fashion', \"Fashion Men's Clothing\",\n",
       "       'Furniture Kitchen Service Area Dinner and Garden',\n",
       "       'Industry Commerce and Business', 'fixed telephony',\n",
       "       'Construction Tools Illumination', 'technical books',\n",
       "       'ELECTRICES 2', 'party articles', 'drinks', 'Market Place',\n",
       "       'La Cuisine', 'Construction Tools Garden',\n",
       "       \"Fashion Women's Clothing\", 'House comfort', 'audio',\n",
       "       'Drink foods', 'song', 'foods', 'IMAGE IMPORT TABLETS',\n",
       "       'Imported books', 'HOUSE PASTALS OVEN AND CAFE', 'Fashion Sport',\n",
       "       'Christmas articles', \"Fashion Children's Clothing\",\n",
       "       'Blu Ray DVDs', 'Arts and Crafts', 'PC Gamer', 'Furniture',\n",
       "       'cine photo', 'Hygiene diapers', 'flowers', 'House Comfort 2',\n",
       "       'Kitchen portable and food coach', 'insurance and services',\n",
       "       'CITTE AND UPHACK FURNITURE', 'cds music dvds'], dtype=object)"
      ]
     },
     "execution_count": 7,
     "metadata": {},
     "output_type": "execute_result"
    }
   ],
   "source": [
    "pro['product category'].unique()"
   ]
  },
  {
   "cell_type": "code",
   "execution_count": 8,
   "id": "e936d28a",
   "metadata": {},
   "outputs": [
    {
     "data": {
      "text/plain": [
       "73"
      ]
     },
     "execution_count": 8,
     "metadata": {},
     "output_type": "execute_result"
    }
   ],
   "source": [
    "pro['product category'].nunique()"
   ]
  },
  {
   "cell_type": "code",
   "execution_count": 9,
   "id": "d7fe55e4",
   "metadata": {},
   "outputs": [
    {
     "data": {
      "text/plain": [
       "bed table bath          3029\n",
       "sport leisure           2867\n",
       "Furniture Decoration    2657\n",
       "HEALTH BEAUTY           2444\n",
       "housewares              2335\n",
       "automotive              1900\n",
       "computer accessories    1639\n",
       "toys                    1411\n",
       "Watches present         1329\n",
       "telephony               1134\n",
       "Name: product category, dtype: int64"
      ]
     },
     "execution_count": 9,
     "metadata": {},
     "output_type": "execute_result"
    }
   ],
   "source": [
    "pro['product category'].value_counts().head(10)"
   ]
  },
  {
   "cell_type": "code",
   "execution_count": 10,
   "id": "c7927b97",
   "metadata": {},
   "outputs": [
    {
     "data": {
      "text/plain": [
       "Hygiene diapers                    12\n",
       "La Cuisine                         10\n",
       "Kitchen portable and food coach    10\n",
       "CITTE AND UPHACK FURNITURE         10\n",
       "IMAGE IMPORT TABLETS                9\n",
       "Fashion Children's Clothing         5\n",
       "House Comfort 2                     5\n",
       "PC Gamer                            3\n",
       "insurance and services              2\n",
       "cds music dvds                      1\n",
       "Name: product category, dtype: int64"
      ]
     },
     "execution_count": 10,
     "metadata": {},
     "output_type": "execute_result"
    }
   ],
   "source": [
    "pro['product category'].value_counts().tail(10)"
   ]
  },
  {
   "cell_type": "code",
   "execution_count": 11,
   "id": "9a25ae16",
   "metadata": {},
   "outputs": [
    {
     "data": {
      "text/plain": [
       "0        1e9e8ef04dbcff4541ed26657ea517e5\n",
       "1        3aa071139cb16b67ca9e5dea641aaa2f\n",
       "2        96bd76ec8810374ed1b65e291975717f\n",
       "3        cef67bcfe19066a932b7673e239eb23d\n",
       "4        9dc1a7de274444849c219cff195d0b71\n",
       "                       ...               \n",
       "32946    a0b7d5a992ccda646f2d34e418fff5a0\n",
       "32947    bf4538d88321d0fd4412a93c974510e6\n",
       "32948    9a7c6041fa9592d9d9ef6cfe62a71f8c\n",
       "32949    83808703fc0706a22e264b9d75f04a2e\n",
       "32950    106392145fca363410d287a815be6de4\n",
       "Name: product_id, Length: 32951, dtype: object"
      ]
     },
     "execution_count": 11,
     "metadata": {},
     "output_type": "execute_result"
    }
   ],
   "source": [
    "pro['product_id']"
   ]
  },
  {
   "cell_type": "code",
   "execution_count": 12,
   "id": "75748e24",
   "metadata": {},
   "outputs": [
    {
     "data": {
      "text/html": [
       "<div>\n",
       "<style scoped>\n",
       "    .dataframe tbody tr th:only-of-type {\n",
       "        vertical-align: middle;\n",
       "    }\n",
       "\n",
       "    .dataframe tbody tr th {\n",
       "        vertical-align: top;\n",
       "    }\n",
       "\n",
       "    .dataframe thead th {\n",
       "        text-align: right;\n",
       "    }\n",
       "</style>\n",
       "<table border=\"1\" class=\"dataframe\">\n",
       "  <thead>\n",
       "    <tr style=\"text-align: right;\">\n",
       "      <th></th>\n",
       "      <th>order_id</th>\n",
       "      <th>customer_id</th>\n",
       "      <th>order_status</th>\n",
       "      <th>order_purchase_timestamp</th>\n",
       "      <th>order_approved_at</th>\n",
       "      <th>order_delivered_carrier_date</th>\n",
       "      <th>order_delivered_customer_date</th>\n",
       "      <th>order_estimated_delivery_date</th>\n",
       "    </tr>\n",
       "  </thead>\n",
       "  <tbody>\n",
       "    <tr>\n",
       "      <th>0</th>\n",
       "      <td>e481f51cbdc54678b7cc49136f2d6af7</td>\n",
       "      <td>9ef432eb6251297304e76186b10a928d</td>\n",
       "      <td>delivered</td>\n",
       "      <td>2017-10-02 10:56:33</td>\n",
       "      <td>2017-10-02 11:07:15</td>\n",
       "      <td>2017-10-04 19:55:00</td>\n",
       "      <td>2017-10-10 21:25:13</td>\n",
       "      <td>2017-10-18 00:00:00</td>\n",
       "    </tr>\n",
       "    <tr>\n",
       "      <th>1</th>\n",
       "      <td>53cdb2fc8bc7dce0b6741e2150273451</td>\n",
       "      <td>b0830fb4747a6c6d20dea0b8c802d7ef</td>\n",
       "      <td>delivered</td>\n",
       "      <td>2018-07-24 20:41:37</td>\n",
       "      <td>2018-07-26 03:24:27</td>\n",
       "      <td>2018-07-26 14:31:00</td>\n",
       "      <td>2018-08-07 15:27:45</td>\n",
       "      <td>2018-08-13 00:00:00</td>\n",
       "    </tr>\n",
       "    <tr>\n",
       "      <th>2</th>\n",
       "      <td>47770eb9100c2d0c44946d9cf07ec65d</td>\n",
       "      <td>41ce2a54c0b03bf3443c3d931a367089</td>\n",
       "      <td>delivered</td>\n",
       "      <td>2018-08-08 08:38:49</td>\n",
       "      <td>2018-08-08 08:55:23</td>\n",
       "      <td>2018-08-08 13:50:00</td>\n",
       "      <td>2018-08-17 18:06:29</td>\n",
       "      <td>2018-09-04 00:00:00</td>\n",
       "    </tr>\n",
       "    <tr>\n",
       "      <th>3</th>\n",
       "      <td>949d5b44dbf5de918fe9c16f97b45f8a</td>\n",
       "      <td>f88197465ea7920adcdbec7375364d82</td>\n",
       "      <td>delivered</td>\n",
       "      <td>2017-11-18 19:28:06</td>\n",
       "      <td>2017-11-18 19:45:59</td>\n",
       "      <td>2017-11-22 13:39:59</td>\n",
       "      <td>2017-12-02 00:28:42</td>\n",
       "      <td>2017-12-15 00:00:00</td>\n",
       "    </tr>\n",
       "    <tr>\n",
       "      <th>4</th>\n",
       "      <td>ad21c59c0840e6cb83a9ceb5573f8159</td>\n",
       "      <td>8ab97904e6daea8866dbdbc4fb7aad2c</td>\n",
       "      <td>delivered</td>\n",
       "      <td>2018-02-13 21:18:39</td>\n",
       "      <td>2018-02-13 22:20:29</td>\n",
       "      <td>2018-02-14 19:46:34</td>\n",
       "      <td>2018-02-16 18:17:02</td>\n",
       "      <td>2018-02-26 00:00:00</td>\n",
       "    </tr>\n",
       "    <tr>\n",
       "      <th>...</th>\n",
       "      <td>...</td>\n",
       "      <td>...</td>\n",
       "      <td>...</td>\n",
       "      <td>...</td>\n",
       "      <td>...</td>\n",
       "      <td>...</td>\n",
       "      <td>...</td>\n",
       "      <td>...</td>\n",
       "    </tr>\n",
       "    <tr>\n",
       "      <th>99436</th>\n",
       "      <td>9c5dedf39a927c1b2549525ed64a053c</td>\n",
       "      <td>39bd1228ee8140590ac3aca26f2dfe00</td>\n",
       "      <td>delivered</td>\n",
       "      <td>2017-03-09 09:54:05</td>\n",
       "      <td>2017-03-09 09:54:05</td>\n",
       "      <td>2017-03-10 11:18:03</td>\n",
       "      <td>2017-03-17 15:08:01</td>\n",
       "      <td>2017-03-28 00:00:00</td>\n",
       "    </tr>\n",
       "    <tr>\n",
       "      <th>99437</th>\n",
       "      <td>63943bddc261676b46f01ca7ac2f7bd8</td>\n",
       "      <td>1fca14ff2861355f6e5f14306ff977a7</td>\n",
       "      <td>delivered</td>\n",
       "      <td>2018-02-06 12:58:58</td>\n",
       "      <td>2018-02-06 13:10:37</td>\n",
       "      <td>2018-02-07 23:22:42</td>\n",
       "      <td>2018-02-28 17:37:56</td>\n",
       "      <td>2018-03-02 00:00:00</td>\n",
       "    </tr>\n",
       "    <tr>\n",
       "      <th>99438</th>\n",
       "      <td>83c1379a015df1e13d02aae0204711ab</td>\n",
       "      <td>1aa71eb042121263aafbe80c1b562c9c</td>\n",
       "      <td>delivered</td>\n",
       "      <td>2017-08-27 14:46:43</td>\n",
       "      <td>2017-08-27 15:04:16</td>\n",
       "      <td>2017-08-28 20:52:26</td>\n",
       "      <td>2017-09-21 11:24:17</td>\n",
       "      <td>2017-09-27 00:00:00</td>\n",
       "    </tr>\n",
       "    <tr>\n",
       "      <th>99439</th>\n",
       "      <td>11c177c8e97725db2631073c19f07b62</td>\n",
       "      <td>b331b74b18dc79bcdf6532d51e1637c1</td>\n",
       "      <td>delivered</td>\n",
       "      <td>2018-01-08 21:28:27</td>\n",
       "      <td>2018-01-08 21:36:21</td>\n",
       "      <td>2018-01-12 15:35:03</td>\n",
       "      <td>2018-01-25 23:32:54</td>\n",
       "      <td>2018-02-15 00:00:00</td>\n",
       "    </tr>\n",
       "    <tr>\n",
       "      <th>99440</th>\n",
       "      <td>66dea50a8b16d9b4dee7af250b4be1a5</td>\n",
       "      <td>edb027a75a1449115f6b43211ae02a24</td>\n",
       "      <td>delivered</td>\n",
       "      <td>2018-03-08 20:57:30</td>\n",
       "      <td>2018-03-09 11:20:28</td>\n",
       "      <td>2018-03-09 22:11:59</td>\n",
       "      <td>2018-03-16 13:08:30</td>\n",
       "      <td>2018-04-03 00:00:00</td>\n",
       "    </tr>\n",
       "  </tbody>\n",
       "</table>\n",
       "<p>99441 rows × 8 columns</p>\n",
       "</div>"
      ],
      "text/plain": [
       "                               order_id                       customer_id  \\\n",
       "0      e481f51cbdc54678b7cc49136f2d6af7  9ef432eb6251297304e76186b10a928d   \n",
       "1      53cdb2fc8bc7dce0b6741e2150273451  b0830fb4747a6c6d20dea0b8c802d7ef   \n",
       "2      47770eb9100c2d0c44946d9cf07ec65d  41ce2a54c0b03bf3443c3d931a367089   \n",
       "3      949d5b44dbf5de918fe9c16f97b45f8a  f88197465ea7920adcdbec7375364d82   \n",
       "4      ad21c59c0840e6cb83a9ceb5573f8159  8ab97904e6daea8866dbdbc4fb7aad2c   \n",
       "...                                 ...                               ...   \n",
       "99436  9c5dedf39a927c1b2549525ed64a053c  39bd1228ee8140590ac3aca26f2dfe00   \n",
       "99437  63943bddc261676b46f01ca7ac2f7bd8  1fca14ff2861355f6e5f14306ff977a7   \n",
       "99438  83c1379a015df1e13d02aae0204711ab  1aa71eb042121263aafbe80c1b562c9c   \n",
       "99439  11c177c8e97725db2631073c19f07b62  b331b74b18dc79bcdf6532d51e1637c1   \n",
       "99440  66dea50a8b16d9b4dee7af250b4be1a5  edb027a75a1449115f6b43211ae02a24   \n",
       "\n",
       "      order_status order_purchase_timestamp    order_approved_at  \\\n",
       "0        delivered      2017-10-02 10:56:33  2017-10-02 11:07:15   \n",
       "1        delivered      2018-07-24 20:41:37  2018-07-26 03:24:27   \n",
       "2        delivered      2018-08-08 08:38:49  2018-08-08 08:55:23   \n",
       "3        delivered      2017-11-18 19:28:06  2017-11-18 19:45:59   \n",
       "4        delivered      2018-02-13 21:18:39  2018-02-13 22:20:29   \n",
       "...            ...                      ...                  ...   \n",
       "99436    delivered      2017-03-09 09:54:05  2017-03-09 09:54:05   \n",
       "99437    delivered      2018-02-06 12:58:58  2018-02-06 13:10:37   \n",
       "99438    delivered      2017-08-27 14:46:43  2017-08-27 15:04:16   \n",
       "99439    delivered      2018-01-08 21:28:27  2018-01-08 21:36:21   \n",
       "99440    delivered      2018-03-08 20:57:30  2018-03-09 11:20:28   \n",
       "\n",
       "      order_delivered_carrier_date order_delivered_customer_date  \\\n",
       "0              2017-10-04 19:55:00           2017-10-10 21:25:13   \n",
       "1              2018-07-26 14:31:00           2018-08-07 15:27:45   \n",
       "2              2018-08-08 13:50:00           2018-08-17 18:06:29   \n",
       "3              2017-11-22 13:39:59           2017-12-02 00:28:42   \n",
       "4              2018-02-14 19:46:34           2018-02-16 18:17:02   \n",
       "...                            ...                           ...   \n",
       "99436          2017-03-10 11:18:03           2017-03-17 15:08:01   \n",
       "99437          2018-02-07 23:22:42           2018-02-28 17:37:56   \n",
       "99438          2017-08-28 20:52:26           2017-09-21 11:24:17   \n",
       "99439          2018-01-12 15:35:03           2018-01-25 23:32:54   \n",
       "99440          2018-03-09 22:11:59           2018-03-16 13:08:30   \n",
       "\n",
       "      order_estimated_delivery_date  \n",
       "0               2017-10-18 00:00:00  \n",
       "1               2018-08-13 00:00:00  \n",
       "2               2018-09-04 00:00:00  \n",
       "3               2017-12-15 00:00:00  \n",
       "4               2018-02-26 00:00:00  \n",
       "...                             ...  \n",
       "99436           2017-03-28 00:00:00  \n",
       "99437           2018-03-02 00:00:00  \n",
       "99438           2017-09-27 00:00:00  \n",
       "99439           2018-02-15 00:00:00  \n",
       "99440           2018-04-03 00:00:00  \n",
       "\n",
       "[99441 rows x 8 columns]"
      ]
     },
     "execution_count": 12,
     "metadata": {},
     "output_type": "execute_result"
    }
   ],
   "source": [
    "o=pd.read_csv(\"orders.csv\")\n",
    "o"
   ]
  },
  {
   "cell_type": "code",
   "execution_count": 13,
   "id": "f5dbcd37",
   "metadata": {},
   "outputs": [
    {
     "name": "stdout",
     "output_type": "stream",
     "text": [
      "<class 'pandas.core.frame.DataFrame'>\n",
      "RangeIndex: 99441 entries, 0 to 99440\n",
      "Data columns (total 8 columns):\n",
      " #   Column                         Non-Null Count  Dtype \n",
      "---  ------                         --------------  ----- \n",
      " 0   order_id                       99441 non-null  object\n",
      " 1   customer_id                    99441 non-null  object\n",
      " 2   order_status                   99441 non-null  object\n",
      " 3   order_purchase_timestamp       99441 non-null  object\n",
      " 4   order_approved_at              99281 non-null  object\n",
      " 5   order_delivered_carrier_date   97658 non-null  object\n",
      " 6   order_delivered_customer_date  96476 non-null  object\n",
      " 7   order_estimated_delivery_date  99441 non-null  object\n",
      "dtypes: object(8)\n",
      "memory usage: 6.1+ MB\n"
     ]
    }
   ],
   "source": [
    "o.info()"
   ]
  },
  {
   "cell_type": "code",
   "execution_count": 14,
   "id": "5fcaa17c",
   "metadata": {},
   "outputs": [
    {
     "data": {
      "text/html": [
       "<div>\n",
       "<style scoped>\n",
       "    .dataframe tbody tr th:only-of-type {\n",
       "        vertical-align: middle;\n",
       "    }\n",
       "\n",
       "    .dataframe tbody tr th {\n",
       "        vertical-align: top;\n",
       "    }\n",
       "\n",
       "    .dataframe thead th {\n",
       "        text-align: right;\n",
       "    }\n",
       "</style>\n",
       "<table border=\"1\" class=\"dataframe\">\n",
       "  <thead>\n",
       "    <tr style=\"text-align: right;\">\n",
       "      <th></th>\n",
       "      <th>order_id</th>\n",
       "      <th>customer_id</th>\n",
       "      <th>order_status</th>\n",
       "      <th>order_purchase_timestamp</th>\n",
       "      <th>order_approved_at</th>\n",
       "      <th>order_delivered_carrier_date</th>\n",
       "      <th>order_delivered_customer_date</th>\n",
       "      <th>order_estimated_delivery_date</th>\n",
       "    </tr>\n",
       "  </thead>\n",
       "  <tbody>\n",
       "    <tr>\n",
       "      <th>count</th>\n",
       "      <td>99441</td>\n",
       "      <td>99441</td>\n",
       "      <td>99441</td>\n",
       "      <td>99441</td>\n",
       "      <td>99281</td>\n",
       "      <td>97658</td>\n",
       "      <td>96476</td>\n",
       "      <td>99441</td>\n",
       "    </tr>\n",
       "    <tr>\n",
       "      <th>unique</th>\n",
       "      <td>99441</td>\n",
       "      <td>99441</td>\n",
       "      <td>8</td>\n",
       "      <td>98875</td>\n",
       "      <td>90733</td>\n",
       "      <td>81018</td>\n",
       "      <td>95664</td>\n",
       "      <td>459</td>\n",
       "    </tr>\n",
       "    <tr>\n",
       "      <th>top</th>\n",
       "      <td>e481f51cbdc54678b7cc49136f2d6af7</td>\n",
       "      <td>9ef432eb6251297304e76186b10a928d</td>\n",
       "      <td>delivered</td>\n",
       "      <td>2018-04-11 10:48:14</td>\n",
       "      <td>2018-02-27 04:31:10</td>\n",
       "      <td>2018-05-09 15:48:00</td>\n",
       "      <td>2018-05-08 23:38:46</td>\n",
       "      <td>2017-12-20 00:00:00</td>\n",
       "    </tr>\n",
       "    <tr>\n",
       "      <th>freq</th>\n",
       "      <td>1</td>\n",
       "      <td>1</td>\n",
       "      <td>96478</td>\n",
       "      <td>3</td>\n",
       "      <td>9</td>\n",
       "      <td>47</td>\n",
       "      <td>3</td>\n",
       "      <td>522</td>\n",
       "    </tr>\n",
       "  </tbody>\n",
       "</table>\n",
       "</div>"
      ],
      "text/plain": [
       "                                order_id                       customer_id  \\\n",
       "count                              99441                             99441   \n",
       "unique                             99441                             99441   \n",
       "top     e481f51cbdc54678b7cc49136f2d6af7  9ef432eb6251297304e76186b10a928d   \n",
       "freq                                   1                                 1   \n",
       "\n",
       "       order_status order_purchase_timestamp    order_approved_at  \\\n",
       "count         99441                    99441                99281   \n",
       "unique            8                    98875                90733   \n",
       "top       delivered      2018-04-11 10:48:14  2018-02-27 04:31:10   \n",
       "freq          96478                        3                    9   \n",
       "\n",
       "       order_delivered_carrier_date order_delivered_customer_date  \\\n",
       "count                         97658                         96476   \n",
       "unique                        81018                         95664   \n",
       "top             2018-05-09 15:48:00           2018-05-08 23:38:46   \n",
       "freq                             47                             3   \n",
       "\n",
       "       order_estimated_delivery_date  \n",
       "count                          99441  \n",
       "unique                           459  \n",
       "top              2017-12-20 00:00:00  \n",
       "freq                             522  "
      ]
     },
     "execution_count": 14,
     "metadata": {},
     "output_type": "execute_result"
    }
   ],
   "source": [
    "o.describe()"
   ]
  },
  {
   "cell_type": "code",
   "execution_count": 15,
   "id": "67be0473",
   "metadata": {},
   "outputs": [
    {
     "name": "stdout",
     "output_type": "stream",
     "text": [
      "Olist-data analysis.ipynb  order_reviews.csv\r\n",
      "Untitled.ipynb             orders.csv\r\n",
      "customers.csv              payments.csv\r\n",
      "geolocation.csv            products.csv\r\n",
      "order_items.csv            sellers.csv\r\n"
     ]
    }
   ],
   "source": [
    "ls"
   ]
  },
  {
   "cell_type": "code",
   "execution_count": 40,
   "id": "eb29944d",
   "metadata": {},
   "outputs": [
    {
     "data": {
      "text/plain": [
       "(112650, 7)"
      ]
     },
     "execution_count": 40,
     "metadata": {},
     "output_type": "execute_result"
    }
   ],
   "source": [
    "oi=pd.read_csv(\"order_items.csv\")\n",
    "oi.shape"
   ]
  },
  {
   "cell_type": "code",
   "execution_count": 17,
   "id": "12ac5dcc",
   "metadata": {},
   "outputs": [
    {
     "data": {
      "text/plain": [
       "(112650, 7)"
      ]
     },
     "execution_count": 17,
     "metadata": {},
     "output_type": "execute_result"
    }
   ],
   "source": [
    "oi.shape"
   ]
  },
  {
   "cell_type": "code",
   "execution_count": 18,
   "id": "c0ccf76b",
   "metadata": {},
   "outputs": [
    {
     "name": "stdout",
     "output_type": "stream",
     "text": [
      "<class 'pandas.core.frame.DataFrame'>\n",
      "RangeIndex: 112650 entries, 0 to 112649\n",
      "Data columns (total 7 columns):\n",
      " #   Column               Non-Null Count   Dtype  \n",
      "---  ------               --------------   -----  \n",
      " 0   order_id             112650 non-null  object \n",
      " 1   order_item_id        112650 non-null  int64  \n",
      " 2   product_id           112650 non-null  object \n",
      " 3   seller_id            112650 non-null  object \n",
      " 4   shipping_limit_date  112650 non-null  object \n",
      " 5   price                112650 non-null  float64\n",
      " 6   freight_value        112650 non-null  float64\n",
      "dtypes: float64(2), int64(1), object(4)\n",
      "memory usage: 6.0+ MB\n"
     ]
    }
   ],
   "source": [
    "oi.info()"
   ]
  },
  {
   "cell_type": "code",
   "execution_count": 19,
   "id": "92f7853a",
   "metadata": {},
   "outputs": [
    {
     "data": {
      "text/plain": [
       "Index(['order_id', 'order_item_id', 'product_id', 'seller_id',\n",
       "       'shipping_limit_date', 'price', 'freight_value'],\n",
       "      dtype='object')"
      ]
     },
     "execution_count": 19,
     "metadata": {},
     "output_type": "execute_result"
    }
   ],
   "source": [
    "oi.columns"
   ]
  },
  {
   "cell_type": "code",
   "execution_count": 27,
   "id": "2e10e9b3",
   "metadata": {},
   "outputs": [
    {
     "data": {
      "text/html": [
       "<div>\n",
       "<style scoped>\n",
       "    .dataframe tbody tr th:only-of-type {\n",
       "        vertical-align: middle;\n",
       "    }\n",
       "\n",
       "    .dataframe tbody tr th {\n",
       "        vertical-align: top;\n",
       "    }\n",
       "\n",
       "    .dataframe thead th {\n",
       "        text-align: right;\n",
       "    }\n",
       "</style>\n",
       "<table border=\"1\" class=\"dataframe\">\n",
       "  <thead>\n",
       "    <tr style=\"text-align: right;\">\n",
       "      <th></th>\n",
       "      <th>order_id</th>\n",
       "      <th>product_id</th>\n",
       "    </tr>\n",
       "  </thead>\n",
       "  <tbody>\n",
       "    <tr>\n",
       "      <th>0</th>\n",
       "      <td>00010242fe8c5a6d1ba2dd792cb16214</td>\n",
       "      <td>4244733e06e7ecb4970a6e2683c13e61</td>\n",
       "    </tr>\n",
       "    <tr>\n",
       "      <th>1</th>\n",
       "      <td>00018f77f2f0320c557190d7a144bdd3</td>\n",
       "      <td>e5f2d52b802189ee658865ca93d83a8f</td>\n",
       "    </tr>\n",
       "    <tr>\n",
       "      <th>2</th>\n",
       "      <td>000229ec398224ef6ca0657da4fc703e</td>\n",
       "      <td>c777355d18b72b67abbeef9df44fd0fd</td>\n",
       "    </tr>\n",
       "    <tr>\n",
       "      <th>3</th>\n",
       "      <td>00024acbcdf0a6daa1e931b038114c75</td>\n",
       "      <td>7634da152a4610f1595efa32f14722fc</td>\n",
       "    </tr>\n",
       "    <tr>\n",
       "      <th>4</th>\n",
       "      <td>00042b26cf59d7ce69dfabb4e55b4fd9</td>\n",
       "      <td>ac6c3623068f30de03045865e4e10089</td>\n",
       "    </tr>\n",
       "    <tr>\n",
       "      <th>...</th>\n",
       "      <td>...</td>\n",
       "      <td>...</td>\n",
       "    </tr>\n",
       "    <tr>\n",
       "      <th>112645</th>\n",
       "      <td>fffc94f6ce00a00581880bf54a75a037</td>\n",
       "      <td>4aa6014eceb682077f9dc4bffebc05b0</td>\n",
       "    </tr>\n",
       "    <tr>\n",
       "      <th>112646</th>\n",
       "      <td>fffcd46ef2263f404302a634eb57f7eb</td>\n",
       "      <td>32e07fd915822b0765e448c4dd74c828</td>\n",
       "    </tr>\n",
       "    <tr>\n",
       "      <th>112647</th>\n",
       "      <td>fffce4705a9662cd70adb13d4a31832d</td>\n",
       "      <td>72a30483855e2eafc67aee5dc2560482</td>\n",
       "    </tr>\n",
       "    <tr>\n",
       "      <th>112648</th>\n",
       "      <td>fffe18544ffabc95dfada21779c9644f</td>\n",
       "      <td>9c422a519119dcad7575db5af1ba540e</td>\n",
       "    </tr>\n",
       "    <tr>\n",
       "      <th>112649</th>\n",
       "      <td>fffe41c64501cc87c801fd61db3f6244</td>\n",
       "      <td>350688d9dc1e75ff97be326363655e01</td>\n",
       "    </tr>\n",
       "  </tbody>\n",
       "</table>\n",
       "<p>112650 rows × 2 columns</p>\n",
       "</div>"
      ],
      "text/plain": [
       "                                order_id                        product_id\n",
       "0       00010242fe8c5a6d1ba2dd792cb16214  4244733e06e7ecb4970a6e2683c13e61\n",
       "1       00018f77f2f0320c557190d7a144bdd3  e5f2d52b802189ee658865ca93d83a8f\n",
       "2       000229ec398224ef6ca0657da4fc703e  c777355d18b72b67abbeef9df44fd0fd\n",
       "3       00024acbcdf0a6daa1e931b038114c75  7634da152a4610f1595efa32f14722fc\n",
       "4       00042b26cf59d7ce69dfabb4e55b4fd9  ac6c3623068f30de03045865e4e10089\n",
       "...                                  ...                               ...\n",
       "112645  fffc94f6ce00a00581880bf54a75a037  4aa6014eceb682077f9dc4bffebc05b0\n",
       "112646  fffcd46ef2263f404302a634eb57f7eb  32e07fd915822b0765e448c4dd74c828\n",
       "112647  fffce4705a9662cd70adb13d4a31832d  72a30483855e2eafc67aee5dc2560482\n",
       "112648  fffe18544ffabc95dfada21779c9644f  9c422a519119dcad7575db5af1ba540e\n",
       "112649  fffe41c64501cc87c801fd61db3f6244  350688d9dc1e75ff97be326363655e01\n",
       "\n",
       "[112650 rows x 2 columns]"
      ]
     },
     "execution_count": 27,
     "metadata": {},
     "output_type": "execute_result"
    }
   ],
   "source": [
    "req=oi[['order_id','product_id']]\n",
    "req"
   ]
  },
  {
   "cell_type": "code",
   "execution_count": 1,
   "id": "563052e5",
   "metadata": {
    "scrolled": false
   },
   "outputs": [
    {
     "ename": "NameError",
     "evalue": "name 'req' is not defined",
     "output_type": "error",
     "traceback": [
      "\u001b[0;31m---------------------------------------------------------------------------\u001b[0m",
      "\u001b[0;31mNameError\u001b[0m                                 Traceback (most recent call last)",
      "Input \u001b[0;32mIn [1]\u001b[0m, in \u001b[0;36m<cell line: 1>\u001b[0;34m()\u001b[0m\n\u001b[0;32m----> 1\u001b[0m top\u001b[38;5;241m=\u001b[39m\u001b[43mreq\u001b[49m\u001b[38;5;241m.\u001b[39mgroupby(\u001b[38;5;124m'\u001b[39m\u001b[38;5;124mproduct_id\u001b[39m\u001b[38;5;124m'\u001b[39m)\u001b[38;5;241m.\u001b[39mcount()\u001b[38;5;241m.\u001b[39msort_values(\u001b[38;5;124m'\u001b[39m\u001b[38;5;124morder_id\u001b[39m\u001b[38;5;124m'\u001b[39m,ascending\u001b[38;5;241m=\u001b[39m\u001b[38;5;28;01mFalse\u001b[39;00m)\n",
      "\u001b[0;31mNameError\u001b[0m: name 'req' is not defined"
     ]
    }
   ],
   "source": [
    "top=req.groupby('product_id').count().sort_values('order_id',ascending=False)"
   ]
  },
  {
   "cell_type": "code",
   "execution_count": 42,
   "id": "e4e4bb41",
   "metadata": {},
   "outputs": [
    {
     "data": {
      "text/plain": [
       "order_id    112650\n",
       "dtype: int64"
      ]
     },
     "execution_count": 42,
     "metadata": {},
     "output_type": "execute_result"
    }
   ],
   "source": [
    "top.sum()"
   ]
  },
  {
   "cell_type": "code",
   "execution_count": 44,
   "id": "25d189d3",
   "metadata": {},
   "outputs": [
    {
     "data": {
      "text/html": [
       "<div>\n",
       "<style scoped>\n",
       "    .dataframe tbody tr th:only-of-type {\n",
       "        vertical-align: middle;\n",
       "    }\n",
       "\n",
       "    .dataframe tbody tr th {\n",
       "        vertical-align: top;\n",
       "    }\n",
       "\n",
       "    .dataframe thead th {\n",
       "        text-align: right;\n",
       "    }\n",
       "</style>\n",
       "<table border=\"1\" class=\"dataframe\">\n",
       "  <thead>\n",
       "    <tr style=\"text-align: right;\">\n",
       "      <th></th>\n",
       "      <th>order_id</th>\n",
       "    </tr>\n",
       "    <tr>\n",
       "      <th>product_id</th>\n",
       "      <th></th>\n",
       "    </tr>\n",
       "  </thead>\n",
       "  <tbody>\n",
       "    <tr>\n",
       "      <th>aca2eb7d00ea1a7b8ebd4e68314663af</th>\n",
       "      <td>527</td>\n",
       "    </tr>\n",
       "    <tr>\n",
       "      <th>99a4788cb24856965c36a24e339b6058</th>\n",
       "      <td>488</td>\n",
       "    </tr>\n",
       "    <tr>\n",
       "      <th>422879e10f46682990de24d770e7f83d</th>\n",
       "      <td>484</td>\n",
       "    </tr>\n",
       "    <tr>\n",
       "      <th>389d119b48cf3043d311335e499d9c6b</th>\n",
       "      <td>392</td>\n",
       "    </tr>\n",
       "    <tr>\n",
       "      <th>368c6c730842d78016ad823897a372db</th>\n",
       "      <td>388</td>\n",
       "    </tr>\n",
       "    <tr>\n",
       "      <th>53759a2ecddad2bb87a079a1f1519f73</th>\n",
       "      <td>373</td>\n",
       "    </tr>\n",
       "    <tr>\n",
       "      <th>d1c427060a0f73f6b889a5c7c61f2ac4</th>\n",
       "      <td>343</td>\n",
       "    </tr>\n",
       "    <tr>\n",
       "      <th>53b36df67ebb7c41585e8d54d6772e08</th>\n",
       "      <td>323</td>\n",
       "    </tr>\n",
       "    <tr>\n",
       "      <th>154e7e31ebfa092203795c972e5804a6</th>\n",
       "      <td>281</td>\n",
       "    </tr>\n",
       "    <tr>\n",
       "      <th>3dd2a17168ec895c781a9191c1e95ad7</th>\n",
       "      <td>274</td>\n",
       "    </tr>\n",
       "    <tr>\n",
       "      <th>2b4609f8948be18874494203496bc318</th>\n",
       "      <td>260</td>\n",
       "    </tr>\n",
       "    <tr>\n",
       "      <th>7c1bd920dbdf22470b68bde975dd3ccf</th>\n",
       "      <td>231</td>\n",
       "    </tr>\n",
       "    <tr>\n",
       "      <th>a62e25e09e05e6faf31d90c6ec1aa3d1</th>\n",
       "      <td>226</td>\n",
       "    </tr>\n",
       "    <tr>\n",
       "      <th>5a848e4ab52fd5445cdc07aab1c40e48</th>\n",
       "      <td>197</td>\n",
       "    </tr>\n",
       "    <tr>\n",
       "      <th>bb50f2e236e5eea0100680137654686c</th>\n",
       "      <td>195</td>\n",
       "    </tr>\n",
       "    <tr>\n",
       "      <th>e0d64dcfaa3b6db5c54ca298ae101d05</th>\n",
       "      <td>194</td>\n",
       "    </tr>\n",
       "    <tr>\n",
       "      <th>42a2c92a0979a949ca4ea89ec5c7b934</th>\n",
       "      <td>183</td>\n",
       "    </tr>\n",
       "    <tr>\n",
       "      <th>e53e557d5a159f5aa2c5e995dfdf244b</th>\n",
       "      <td>183</td>\n",
       "    </tr>\n",
       "    <tr>\n",
       "      <th>b532349fe46b38fbc7bb3914c1bdae07</th>\n",
       "      <td>169</td>\n",
       "    </tr>\n",
       "    <tr>\n",
       "      <th>35afc973633aaeb6b877ff57b2793310</th>\n",
       "      <td>165</td>\n",
       "    </tr>\n",
       "    <tr>\n",
       "      <th>a92930c327948861c015c919a0bcb4a8</th>\n",
       "      <td>160</td>\n",
       "    </tr>\n",
       "    <tr>\n",
       "      <th>6cdd53843498f92890544667809f1595</th>\n",
       "      <td>156</td>\n",
       "    </tr>\n",
       "    <tr>\n",
       "      <th>19c91ef95d509ea33eda93495c4d3481</th>\n",
       "      <td>156</td>\n",
       "    </tr>\n",
       "    <tr>\n",
       "      <th>437c05a395e9e47f9762e677a7068ce7</th>\n",
       "      <td>155</td>\n",
       "    </tr>\n",
       "    <tr>\n",
       "      <th>f1c7f353075ce59d8a6f3cf58f419c9c</th>\n",
       "      <td>154</td>\n",
       "    </tr>\n",
       "    <tr>\n",
       "      <th>3fbc0ef745950c7932d5f2a446189725</th>\n",
       "      <td>150</td>\n",
       "    </tr>\n",
       "    <tr>\n",
       "      <th>c4baedd846ed09b85f78a781b522f126</th>\n",
       "      <td>149</td>\n",
       "    </tr>\n",
       "    <tr>\n",
       "      <th>461f43be3bdf8844e65b62d9ac2c7a5a</th>\n",
       "      <td>146</td>\n",
       "    </tr>\n",
       "    <tr>\n",
       "      <th>06edb72f1e0c64b14c5b79353f7abea3</th>\n",
       "      <td>143</td>\n",
       "    </tr>\n",
       "    <tr>\n",
       "      <th>7a10781637204d8d10485c71a6108a2e</th>\n",
       "      <td>143</td>\n",
       "    </tr>\n",
       "  </tbody>\n",
       "</table>\n",
       "</div>"
      ],
      "text/plain": [
       "                                  order_id\n",
       "product_id                                \n",
       "aca2eb7d00ea1a7b8ebd4e68314663af       527\n",
       "99a4788cb24856965c36a24e339b6058       488\n",
       "422879e10f46682990de24d770e7f83d       484\n",
       "389d119b48cf3043d311335e499d9c6b       392\n",
       "368c6c730842d78016ad823897a372db       388\n",
       "53759a2ecddad2bb87a079a1f1519f73       373\n",
       "d1c427060a0f73f6b889a5c7c61f2ac4       343\n",
       "53b36df67ebb7c41585e8d54d6772e08       323\n",
       "154e7e31ebfa092203795c972e5804a6       281\n",
       "3dd2a17168ec895c781a9191c1e95ad7       274\n",
       "2b4609f8948be18874494203496bc318       260\n",
       "7c1bd920dbdf22470b68bde975dd3ccf       231\n",
       "a62e25e09e05e6faf31d90c6ec1aa3d1       226\n",
       "5a848e4ab52fd5445cdc07aab1c40e48       197\n",
       "bb50f2e236e5eea0100680137654686c       195\n",
       "e0d64dcfaa3b6db5c54ca298ae101d05       194\n",
       "42a2c92a0979a949ca4ea89ec5c7b934       183\n",
       "e53e557d5a159f5aa2c5e995dfdf244b       183\n",
       "b532349fe46b38fbc7bb3914c1bdae07       169\n",
       "35afc973633aaeb6b877ff57b2793310       165\n",
       "a92930c327948861c015c919a0bcb4a8       160\n",
       "6cdd53843498f92890544667809f1595       156\n",
       "19c91ef95d509ea33eda93495c4d3481       156\n",
       "437c05a395e9e47f9762e677a7068ce7       155\n",
       "f1c7f353075ce59d8a6f3cf58f419c9c       154\n",
       "3fbc0ef745950c7932d5f2a446189725       150\n",
       "c4baedd846ed09b85f78a781b522f126       149\n",
       "461f43be3bdf8844e65b62d9ac2c7a5a       146\n",
       "06edb72f1e0c64b14c5b79353f7abea3       143\n",
       "7a10781637204d8d10485c71a6108a2e       143"
      ]
     },
     "execution_count": 44,
     "metadata": {},
     "output_type": "execute_result"
    }
   ],
   "source": [
    "top.head(30)"
   ]
  },
  {
   "cell_type": "code",
   "execution_count": 45,
   "id": "4e95f6d1",
   "metadata": {},
   "outputs": [
    {
     "data": {
      "text/plain": [
       "<AxesSubplot:xlabel='product_id'>"
      ]
     },
     "execution_count": 45,
     "metadata": {},
     "output_type": "execute_result"
    },
    {
     "data": {
      "image/png": "[encoded data removed]",
      "text/plain": [
       "<Figure size 640x480 with 1 Axes>"
      ]
     },
     "metadata": {},
     "output_type": "display_data"
    }
   ],
   "source": [
    "top.head(5).plot()"
   ]
  },
  {
   "cell_type": "code",
   "execution_count": 47,
   "id": "37dd4c86",
   "metadata": {},
   "outputs": [
    {
     "data": {
      "text/plain": [
       "(99441, 5)"
      ]
     },
     "execution_count": 47,
     "metadata": {},
     "output_type": "execute_result"
    }
   ],
   "source": [
    "cu=pd.read_csv(\"customers.csv\")\n",
    "cu.shape"
   ]
  },
  {
   "cell_type": "code",
   "execution_count": 49,
   "id": "6587ed6d",
   "metadata": {},
   "outputs": [
    {
     "data": {
      "text/plain": [
       "(99441, 8)"
      ]
     },
     "execution_count": 49,
     "metadata": {},
     "output_type": "execute_result"
    }
   ],
   "source": [
    "o.shape"
   ]
  },
  {
   "cell_type": "code",
   "execution_count": 51,
   "id": "bb733797",
   "metadata": {},
   "outputs": [
    {
     "name": "stdout",
     "output_type": "stream",
     "text": [
      "<class 'pandas.core.frame.DataFrame'>\n",
      "RangeIndex: 99441 entries, 0 to 99440\n",
      "Data columns (total 5 columns):\n",
      " #   Column                    Non-Null Count  Dtype \n",
      "---  ------                    --------------  ----- \n",
      " 0   customer_id               99441 non-null  object\n",
      " 1   customer_unique_id        99441 non-null  object\n",
      " 2   customer_zip_code_prefix  99441 non-null  int64 \n",
      " 3   customer_city             99441 non-null  object\n",
      " 4   customer_state            99441 non-null  object\n",
      "dtypes: int64(1), object(4)\n",
      "memory usage: 3.8+ MB\n"
     ]
    }
   ],
   "source": [
    "cu.info()"
   ]
  },
  {
   "cell_type": "code",
   "execution_count": 52,
   "id": "98c006e4",
   "metadata": {},
   "outputs": [
    {
     "name": "stdout",
     "output_type": "stream",
     "text": [
      "<class 'pandas.core.frame.DataFrame'>\n",
      "RangeIndex: 99441 entries, 0 to 99440\n",
      "Data columns (total 8 columns):\n",
      " #   Column                         Non-Null Count  Dtype \n",
      "---  ------                         --------------  ----- \n",
      " 0   order_id                       99441 non-null  object\n",
      " 1   customer_id                    99441 non-null  object\n",
      " 2   order_status                   99441 non-null  object\n",
      " 3   order_purchase_timestamp       99441 non-null  object\n",
      " 4   order_approved_at              99281 non-null  object\n",
      " 5   order_delivered_carrier_date   97658 non-null  object\n",
      " 6   order_delivered_customer_date  96476 non-null  object\n",
      " 7   order_estimated_delivery_date  99441 non-null  object\n",
      "dtypes: object(8)\n",
      "memory usage: 6.1+ MB\n"
     ]
    }
   ],
   "source": [
    "o.info()"
   ]
  },
  {
   "cell_type": "code",
   "execution_count": 60,
   "id": "b9d901b2",
   "metadata": {},
   "outputs": [
    {
     "data": {
      "text/plain": [
       "(99441, 12)"
      ]
     },
     "execution_count": 60,
     "metadata": {},
     "output_type": "execute_result"
    }
   ],
   "source": [
    "join=pd.merge(cu,o,on='customer_id')\n",
    "join.shape"
   ]
  },
  {
   "cell_type": "code",
   "execution_count": 62,
   "id": "a896a031",
   "metadata": {},
   "outputs": [
    {
     "data": {
      "text/plain": [
       "Index(['customer_id', 'customer_unique_id', 'customer_zip_code_prefix',\n",
       "       'customer_city', 'customer_state', 'order_id', 'order_status',\n",
       "       'order_purchase_timestamp', 'order_approved_at',\n",
       "       'order_delivered_carrier_date', 'order_delivered_customer_date',\n",
       "       'order_estimated_delivery_date'],\n",
       "      dtype='object')"
      ]
     },
     "execution_count": 62,
     "metadata": {},
     "output_type": "execute_result"
    }
   ],
   "source": [
    "join.columns"
   ]
  },
  {
   "cell_type": "code",
   "execution_count": 67,
   "id": "4858414a",
   "metadata": {},
   "outputs": [],
   "source": [
    "joinre=join[['customer_id','customer_city', 'customer_state', 'order_id']]"
   ]
  },
  {
   "cell_type": "code",
   "execution_count": 69,
   "id": "67b02d61",
   "metadata": {},
   "outputs": [
    {
     "data": {
      "text/html": [
       "<div>\n",
       "<style scoped>\n",
       "    .dataframe tbody tr th:only-of-type {\n",
       "        vertical-align: middle;\n",
       "    }\n",
       "\n",
       "    .dataframe tbody tr th {\n",
       "        vertical-align: top;\n",
       "    }\n",
       "\n",
       "    .dataframe thead th {\n",
       "        text-align: right;\n",
       "    }\n",
       "</style>\n",
       "<table border=\"1\" class=\"dataframe\">\n",
       "  <thead>\n",
       "    <tr style=\"text-align: right;\">\n",
       "      <th></th>\n",
       "      <th>customer_id</th>\n",
       "      <th>customer_city</th>\n",
       "      <th>customer_state</th>\n",
       "      <th>order_id</th>\n",
       "    </tr>\n",
       "  </thead>\n",
       "  <tbody>\n",
       "    <tr>\n",
       "      <th>0</th>\n",
       "      <td>06b8999e2fba1a1fbc88172c00ba8bc7</td>\n",
       "      <td>franca</td>\n",
       "      <td>SP</td>\n",
       "      <td>00e7ee1b050b8499577073aeb2a297a1</td>\n",
       "    </tr>\n",
       "    <tr>\n",
       "      <th>1</th>\n",
       "      <td>18955e83d337fd6b2def6b18a428ac77</td>\n",
       "      <td>sao bernardo do campo</td>\n",
       "      <td>SP</td>\n",
       "      <td>29150127e6685892b6eab3eec79f59c7</td>\n",
       "    </tr>\n",
       "    <tr>\n",
       "      <th>2</th>\n",
       "      <td>4e7b3e00288586ebd08712fdd0374a03</td>\n",
       "      <td>sao paulo</td>\n",
       "      <td>SP</td>\n",
       "      <td>b2059ed67ce144a36e2aa97d2c9e9ad2</td>\n",
       "    </tr>\n",
       "    <tr>\n",
       "      <th>3</th>\n",
       "      <td>b2b6027bc5c5109e529d4dc6358b12c3</td>\n",
       "      <td>mogi das cruzes</td>\n",
       "      <td>SP</td>\n",
       "      <td>951670f92359f4fe4a63112aa7306eba</td>\n",
       "    </tr>\n",
       "    <tr>\n",
       "      <th>4</th>\n",
       "      <td>4f2d8ab171c80ec8364f7c12e35b23ad</td>\n",
       "      <td>campinas</td>\n",
       "      <td>SP</td>\n",
       "      <td>6b7d50bd145f6fc7f33cebabd7e49d0f</td>\n",
       "    </tr>\n",
       "  </tbody>\n",
       "</table>\n",
       "</div>"
      ],
      "text/plain": [
       "                        customer_id          customer_city customer_state  \\\n",
       "0  06b8999e2fba1a1fbc88172c00ba8bc7                 franca             SP   \n",
       "1  18955e83d337fd6b2def6b18a428ac77  sao bernardo do campo             SP   \n",
       "2  4e7b3e00288586ebd08712fdd0374a03              sao paulo             SP   \n",
       "3  b2b6027bc5c5109e529d4dc6358b12c3        mogi das cruzes             SP   \n",
       "4  4f2d8ab171c80ec8364f7c12e35b23ad               campinas             SP   \n",
       "\n",
       "                           order_id  \n",
       "0  00e7ee1b050b8499577073aeb2a297a1  \n",
       "1  29150127e6685892b6eab3eec79f59c7  \n",
       "2  b2059ed67ce144a36e2aa97d2c9e9ad2  \n",
       "3  951670f92359f4fe4a63112aa7306eba  \n",
       "4  6b7d50bd145f6fc7f33cebabd7e49d0f  "
      ]
     },
     "execution_count": 69,
     "metadata": {},
     "output_type": "execute_result"
    }
   ],
   "source": [
    "joinre.head()"
   ]
  },
  {
   "cell_type": "code",
   "execution_count": 74,
   "id": "d5282c33",
   "metadata": {},
   "outputs": [],
   "source": [
    "stan=joinre.groupby('customer_state').count().sort_values('order_id',ascending=False)"
   ]
  },
  {
   "cell_type": "code",
   "execution_count": 75,
   "id": "37c6c83a",
   "metadata": {},
   "outputs": [
    {
     "data": {
      "text/html": [
       "<div>\n",
       "<style scoped>\n",
       "    .dataframe tbody tr th:only-of-type {\n",
       "        vertical-align: middle;\n",
       "    }\n",
       "\n",
       "    .dataframe tbody tr th {\n",
       "        vertical-align: top;\n",
       "    }\n",
       "\n",
       "    .dataframe thead th {\n",
       "        text-align: right;\n",
       "    }\n",
       "</style>\n",
       "<table border=\"1\" class=\"dataframe\">\n",
       "  <thead>\n",
       "    <tr style=\"text-align: right;\">\n",
       "      <th></th>\n",
       "      <th>customer_id</th>\n",
       "      <th>customer_city</th>\n",
       "      <th>order_id</th>\n",
       "    </tr>\n",
       "    <tr>\n",
       "      <th>customer_state</th>\n",
       "      <th></th>\n",
       "      <th></th>\n",
       "      <th></th>\n",
       "    </tr>\n",
       "  </thead>\n",
       "  <tbody>\n",
       "    <tr>\n",
       "      <th>SP</th>\n",
       "      <td>41746</td>\n",
       "      <td>41746</td>\n",
       "      <td>41746</td>\n",
       "    </tr>\n",
       "    <tr>\n",
       "      <th>RJ</th>\n",
       "      <td>12852</td>\n",
       "      <td>12852</td>\n",
       "      <td>12852</td>\n",
       "    </tr>\n",
       "    <tr>\n",
       "      <th>MG</th>\n",
       "      <td>11635</td>\n",
       "      <td>11635</td>\n",
       "      <td>11635</td>\n",
       "    </tr>\n",
       "    <tr>\n",
       "      <th>RS</th>\n",
       "      <td>5466</td>\n",
       "      <td>5466</td>\n",
       "      <td>5466</td>\n",
       "    </tr>\n",
       "    <tr>\n",
       "      <th>PR</th>\n",
       "      <td>5045</td>\n",
       "      <td>5045</td>\n",
       "      <td>5045</td>\n",
       "    </tr>\n",
       "  </tbody>\n",
       "</table>\n",
       "</div>"
      ],
      "text/plain": [
       "                customer_id  customer_city  order_id\n",
       "customer_state                                      \n",
       "SP                    41746          41746     41746\n",
       "RJ                    12852          12852     12852\n",
       "MG                    11635          11635     11635\n",
       "RS                     5466           5466      5466\n",
       "PR                     5045           5045      5045"
      ]
     },
     "execution_count": 75,
     "metadata": {},
     "output_type": "execute_result"
    }
   ],
   "source": [
    "stan.head(5)"
   ]
  },
  {
   "cell_type": "code",
   "execution_count": 76,
   "id": "8dfba3e8",
   "metadata": {},
   "outputs": [
    {
     "data": {
      "text/plain": [
       "<AxesSubplot:xlabel='customer_state'>"
      ]
     },
     "execution_count": 76,
     "metadata": {},
     "output_type": "execute_result"
    },
    {
     "data": {
      "image/png": "[encoded data removed]",
      "text/plain": [
       "<Figure size 640x480 with 1 Axes>"
      ]
     },
     "metadata": {},
     "output_type": "display_data"
    }
   ],
   "source": [
    "stan.head(5).plot()"
   ]
  },
  {
   "cell_type": "code",
   "execution_count": 79,
   "id": "773ce9ef",
   "metadata": {},
   "outputs": [
    {
     "data": {
      "text/html": [
       "<div>\n",
       "<style scoped>\n",
       "    .dataframe tbody tr th:only-of-type {\n",
       "        vertical-align: middle;\n",
       "    }\n",
       "\n",
       "    .dataframe tbody tr th {\n",
       "        vertical-align: top;\n",
       "    }\n",
       "\n",
       "    .dataframe thead th {\n",
       "        text-align: right;\n",
       "    }\n",
       "</style>\n",
       "<table border=\"1\" class=\"dataframe\">\n",
       "  <thead>\n",
       "    <tr style=\"text-align: right;\">\n",
       "      <th></th>\n",
       "      <th>customer_id</th>\n",
       "      <th>customer_city</th>\n",
       "      <th>order_id</th>\n",
       "    </tr>\n",
       "    <tr>\n",
       "      <th>customer_state</th>\n",
       "      <th></th>\n",
       "      <th></th>\n",
       "      <th></th>\n",
       "    </tr>\n",
       "  </thead>\n",
       "  <tbody>\n",
       "    <tr>\n",
       "      <th>RR</th>\n",
       "      <td>46</td>\n",
       "      <td>46</td>\n",
       "      <td>46</td>\n",
       "    </tr>\n",
       "    <tr>\n",
       "      <th>AP</th>\n",
       "      <td>68</td>\n",
       "      <td>68</td>\n",
       "      <td>68</td>\n",
       "    </tr>\n",
       "    <tr>\n",
       "      <th>AC</th>\n",
       "      <td>81</td>\n",
       "      <td>81</td>\n",
       "      <td>81</td>\n",
       "    </tr>\n",
       "    <tr>\n",
       "      <th>AM</th>\n",
       "      <td>148</td>\n",
       "      <td>148</td>\n",
       "      <td>148</td>\n",
       "    </tr>\n",
       "    <tr>\n",
       "      <th>RO</th>\n",
       "      <td>253</td>\n",
       "      <td>253</td>\n",
       "      <td>253</td>\n",
       "    </tr>\n",
       "  </tbody>\n",
       "</table>\n",
       "</div>"
      ],
      "text/plain": [
       "                customer_id  customer_city  order_id\n",
       "customer_state                                      \n",
       "RR                       46             46        46\n",
       "AP                       68             68        68\n",
       "AC                       81             81        81\n",
       "AM                      148            148       148\n",
       "RO                      253            253       253"
      ]
     },
     "execution_count": 79,
     "metadata": {},
     "output_type": "execute_result"
    }
   ],
   "source": [
    "stan.tail(5).sort_values('order_id',ascending=True)"
   ]
  },
  {
   "cell_type": "code",
   "execution_count": 80,
   "id": "d7bb1105",
   "metadata": {},
   "outputs": [
    {
     "data": {
      "text/plain": [
       "<AxesSubplot:xlabel='customer_state'>"
      ]
     },
     "execution_count": 80,
     "metadata": {},
     "output_type": "execute_result"
    },
    {
     "data": {
      "image/png": "[encoded data removed]",
      "text/plain": [
       "<Figure size 640x480 with 1 Axes>"
      ]
     },
     "metadata": {},
     "output_type": "display_data"
    }
   ],
   "source": [
    "stan.tail(5).sort_values('order_id',ascending=True).plot()"
   ]
  },
  {
   "cell_type": "code",
   "execution_count": null,
   "id": "f5257ad2",
   "metadata": {},
   "outputs": [],
   "source": [
    "oi.groupby('product_id').count().sort_values('order_id',ascending=False) "
   ]
  }
 ],
 "metadata": {
  "kernelspec": {
   "display_name": "Python 3 (ipykernel)",
   "language": "python",
   "name": "python3"
  },
  "language_info": {
   "codemirror_mode": {
    "name": "ipython",
    "version": 3
   },
   "file_extension": ".py",
   "mimetype": "text/x-python",
   "name": "python",
   "nbconvert_exporter": "python",
   "pygments_lexer": "ipython3",
   "version": "3.9.13"
  }
 },
 "nbformat": 4,
 "nbformat_minor": 5
}
